{
 "cells": [
  {
   "cell_type": "code",
   "execution_count": 21,
   "metadata": {},
   "outputs": [
    {
     "data": {
      "text/plain": [
       "115"
      ]
     },
     "execution_count": 21,
     "metadata": {},
     "output_type": "execute_result"
    }
   ],
   "source": [
    "import cv2\n",
    "import matplotlib.pyplot as plt\n",
    "#sample_path=args.image\n",
    "img=cv2.imread('/home/srikant/Downloads/ocr ddeddddd-1.jpg')\n",
    "size=(1700,2338)\n",
    "thresh = cv2.resize(img, size, interpolation = cv2.INTER_AREA)\n",
    "cropped_current_address_state = thresh[1110:1150, 1525:1595]\n",
    "cropped_digit_dummy = thresh[1250:1300, 1214:1671]\n",
    "cv2.imshow('image',cropped_digit_dummy)\n",
    "cv2.waitKey(0)"
   ]
  },
  {
   "cell_type": "code",
   "execution_count": null,
   "metadata": {},
   "outputs": [],
   "source": []
  }
 ],
 "metadata": {
  "kernelspec": {
   "display_name": "Python 3",
   "language": "python",
   "name": "python3"
  },
  "language_info": {
   "codemirror_mode": {
    "name": "ipython",
    "version": 3
   },
   "file_extension": ".py",
   "mimetype": "text/x-python",
   "name": "python",
   "nbconvert_exporter": "python",
   "pygments_lexer": "ipython3",
   "version": "3.5.2"
  }
 },
 "nbformat": 4,
 "nbformat_minor": 2
}
